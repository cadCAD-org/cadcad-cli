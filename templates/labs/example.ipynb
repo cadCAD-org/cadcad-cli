{
 "cells": [
  {
   "cell_type": "code",
   "execution_count": null,
   "id": "3a3dda4d",
   "metadata": {},
   "outputs": [],
   "source": [
    "import blocksciencelabs as labs\n",
    "\n",
    "labs.fetch_results(1)\n",
    "labs.import_csv('example.csv')"
   ]
  }
 ],
 "metadata": {
  "kernelspec": {
   "display_name": "Python 3",
   "language": "python",
   "name": "python3"
  },
  "language_info": {
   "codemirror_mode": {
    "name": "ipython",
    "version": 3
   },
   "file_extension": ".py",
   "mimetype": "text/x-python",
   "name": "python",
   "nbconvert_exporter": "python",
   "pygments_lexer": "ipython3",
   "version": "3.8.10"
  }
 },
 "nbformat": 4,
 "nbformat_minor": 5
}
