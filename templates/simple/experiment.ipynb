{
 "cells": [
  {
   "source": [
    "import cadCAD\n",
    "import pandas\n",
    "\n",
    "genesis_state = {\n",
    "    \"a\": 0\n",
    "}\n",
    "\n",
    "def update_a(params, step, last_state, current_state, _input):\n",
    "    return (\"a\", current_state[\"a\"] + 1) # Increment\n",
    "\n",
    "psubs = [\n",
    "    {\n",
    "        \"policies\": {},\n",
    "        \"variables\": {\n",
    "            \"a\": update_a\n",
    "        }\n",
    "    }\n",
    "]\n",
    "\n",
    "simulation_config = {\n",
    "    \"T\": range(10), # Number of timesteps\n",
    "    \"N\": 1, # Number of Monte Carlo runs\n",
    "}\n",
    "\n",
    "exp = cadCAD.configuration.Experiment()\n",
    "configs = cadCAD.configuration.utils.config_sim(simulation_config)\n",
    "exp.append_configs(initial_state=genesis_state, partial_state_update_blocks=psubs, sim_configs=configs)\n",
    "exec_mode = cadCAD.engine.ExecutionMode()\n",
    "ctx = cadCAD.engine.ExecutionContext(exec_mode.local_mode)\n",
    "sim = cadCAD.engine.Executor(exec_context=ctx, configs=configs)\n",
    "\n",
    "# Run!\n",
    "raw_system_events, tensor_fields, sessions = sim.execute()\n",
    "\n",
    "# Post-processing\n",
    "results = pandas.DataFrame(raw_system_events)"
   ],
   "cell_type": "code",
   "metadata": {},
   "execution_count": null,
   "outputs": []
  }
 ],
 "metadata": {
  "kernelspec": {
   "name": "Python 3.8.6 64-bit",
   "display_name": "Python 3.8.6 64-bit",
   "metadata": {
    "interpreter": {
     "hash": "767d51c1340bd893661ea55ea3124f6de3c7a262a8b4abca0554b478b1e2ff90"
    }
   }
  }
 },
 "nbformat": 4,
 "nbformat_minor": 4
}